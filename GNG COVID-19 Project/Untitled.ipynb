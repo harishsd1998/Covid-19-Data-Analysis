{
 "cells": [
  {
   "cell_type": "code",
   "execution_count": 1,
   "metadata": {},
   "outputs": [
    {
     "data": {
      "text/html": [
       "<div>\n",
       "<style scoped>\n",
       "    .dataframe tbody tr th:only-of-type {\n",
       "        vertical-align: middle;\n",
       "    }\n",
       "\n",
       "    .dataframe tbody tr th {\n",
       "        vertical-align: top;\n",
       "    }\n",
       "\n",
       "    .dataframe thead th {\n",
       "        text-align: right;\n",
       "    }\n",
       "</style>\n",
       "<table border=\"1\" class=\"dataframe\">\n",
       "  <thead>\n",
       "    <tr style=\"text-align: right;\">\n",
       "      <th></th>\n",
       "      <th>test_date</th>\n",
       "      <th>cough</th>\n",
       "      <th>fever</th>\n",
       "      <th>sore_throat</th>\n",
       "      <th>shortness_of_breath</th>\n",
       "      <th>head_ache</th>\n",
       "      <th>corona_result</th>\n",
       "      <th>age_60_and_above</th>\n",
       "      <th>gender</th>\n",
       "      <th>test_indication</th>\n",
       "    </tr>\n",
       "  </thead>\n",
       "  <tbody>\n",
       "    <tr>\n",
       "      <th>0</th>\n",
       "      <td>4/30/2020</td>\n",
       "      <td>0</td>\n",
       "      <td>0</td>\n",
       "      <td>0</td>\n",
       "      <td>0</td>\n",
       "      <td>0</td>\n",
       "      <td>negative</td>\n",
       "      <td>None</td>\n",
       "      <td>female</td>\n",
       "      <td>Other</td>\n",
       "    </tr>\n",
       "    <tr>\n",
       "      <th>1</th>\n",
       "      <td>4/30/2020</td>\n",
       "      <td>1</td>\n",
       "      <td>0</td>\n",
       "      <td>0</td>\n",
       "      <td>0</td>\n",
       "      <td>0</td>\n",
       "      <td>negative</td>\n",
       "      <td>None</td>\n",
       "      <td>female</td>\n",
       "      <td>Other</td>\n",
       "    </tr>\n",
       "    <tr>\n",
       "      <th>2</th>\n",
       "      <td>4/30/2020</td>\n",
       "      <td>0</td>\n",
       "      <td>1</td>\n",
       "      <td>0</td>\n",
       "      <td>0</td>\n",
       "      <td>0</td>\n",
       "      <td>negative</td>\n",
       "      <td>None</td>\n",
       "      <td>male</td>\n",
       "      <td>Other</td>\n",
       "    </tr>\n",
       "    <tr>\n",
       "      <th>3</th>\n",
       "      <td>4/30/2020</td>\n",
       "      <td>1</td>\n",
       "      <td>0</td>\n",
       "      <td>0</td>\n",
       "      <td>0</td>\n",
       "      <td>0</td>\n",
       "      <td>negative</td>\n",
       "      <td>None</td>\n",
       "      <td>female</td>\n",
       "      <td>Other</td>\n",
       "    </tr>\n",
       "    <tr>\n",
       "      <th>4</th>\n",
       "      <td>4/30/2020</td>\n",
       "      <td>1</td>\n",
       "      <td>0</td>\n",
       "      <td>0</td>\n",
       "      <td>0</td>\n",
       "      <td>0</td>\n",
       "      <td>negative</td>\n",
       "      <td>None</td>\n",
       "      <td>male</td>\n",
       "      <td>Other</td>\n",
       "    </tr>\n",
       "    <tr>\n",
       "      <th>...</th>\n",
       "      <td>...</td>\n",
       "      <td>...</td>\n",
       "      <td>...</td>\n",
       "      <td>...</td>\n",
       "      <td>...</td>\n",
       "      <td>...</td>\n",
       "      <td>...</td>\n",
       "      <td>...</td>\n",
       "      <td>...</td>\n",
       "      <td>...</td>\n",
       "    </tr>\n",
       "    <tr>\n",
       "      <th>278843</th>\n",
       "      <td>3/11/2020</td>\n",
       "      <td>0</td>\n",
       "      <td>0</td>\n",
       "      <td>0</td>\n",
       "      <td>0</td>\n",
       "      <td>0</td>\n",
       "      <td>negative</td>\n",
       "      <td>None</td>\n",
       "      <td>None</td>\n",
       "      <td>Other</td>\n",
       "    </tr>\n",
       "    <tr>\n",
       "      <th>278844</th>\n",
       "      <td>3/11/2020</td>\n",
       "      <td>0</td>\n",
       "      <td>0</td>\n",
       "      <td>0</td>\n",
       "      <td>0</td>\n",
       "      <td>0</td>\n",
       "      <td>negative</td>\n",
       "      <td>None</td>\n",
       "      <td>None</td>\n",
       "      <td>Other</td>\n",
       "    </tr>\n",
       "    <tr>\n",
       "      <th>278845</th>\n",
       "      <td>3/11/2020</td>\n",
       "      <td>0</td>\n",
       "      <td>0</td>\n",
       "      <td>0</td>\n",
       "      <td>0</td>\n",
       "      <td>0</td>\n",
       "      <td>positive</td>\n",
       "      <td>None</td>\n",
       "      <td>None</td>\n",
       "      <td>Contact with confirmed</td>\n",
       "    </tr>\n",
       "    <tr>\n",
       "      <th>278846</th>\n",
       "      <td>3/11/2020</td>\n",
       "      <td>0</td>\n",
       "      <td>0</td>\n",
       "      <td>0</td>\n",
       "      <td>0</td>\n",
       "      <td>0</td>\n",
       "      <td>other</td>\n",
       "      <td>None</td>\n",
       "      <td>None</td>\n",
       "      <td>Other</td>\n",
       "    </tr>\n",
       "    <tr>\n",
       "      <th>278847</th>\n",
       "      <td>3/11/2020</td>\n",
       "      <td>0</td>\n",
       "      <td>0</td>\n",
       "      <td>0</td>\n",
       "      <td>0</td>\n",
       "      <td>0</td>\n",
       "      <td>negative</td>\n",
       "      <td>None</td>\n",
       "      <td>None</td>\n",
       "      <td>Other</td>\n",
       "    </tr>\n",
       "  </tbody>\n",
       "</table>\n",
       "<p>278848 rows × 10 columns</p>\n",
       "</div>"
      ],
      "text/plain": [
       "        test_date cough fever sore_throat shortness_of_breath head_ache  \\\n",
       "0       4/30/2020     0     0           0                   0         0   \n",
       "1       4/30/2020     1     0           0                   0         0   \n",
       "2       4/30/2020     0     1           0                   0         0   \n",
       "3       4/30/2020     1     0           0                   0         0   \n",
       "4       4/30/2020     1     0           0                   0         0   \n",
       "...           ...   ...   ...         ...                 ...       ...   \n",
       "278843  3/11/2020     0     0           0                   0         0   \n",
       "278844  3/11/2020     0     0           0                   0         0   \n",
       "278845  3/11/2020     0     0           0                   0         0   \n",
       "278846  3/11/2020     0     0           0                   0         0   \n",
       "278847  3/11/2020     0     0           0                   0         0   \n",
       "\n",
       "       corona_result age_60_and_above  gender         test_indication  \n",
       "0           negative             None  female                   Other  \n",
       "1           negative             None  female                   Other  \n",
       "2           negative             None    male                   Other  \n",
       "3           negative             None  female                   Other  \n",
       "4           negative             None    male                   Other  \n",
       "...              ...              ...     ...                     ...  \n",
       "278843      negative             None    None                   Other  \n",
       "278844      negative             None    None                   Other  \n",
       "278845      positive             None    None  Contact with confirmed  \n",
       "278846         other             None    None                   Other  \n",
       "278847      negative             None    None                   Other  \n",
       "\n",
       "[278848 rows x 10 columns]"
      ]
     },
     "execution_count": 1,
     "metadata": {},
     "output_type": "execute_result"
    }
   ],
   "source": [
    "#Importing Required Libraries and converting the dataset into dataframe object using \"pandas\" python data analysis library.\n",
    "\n",
    "import numpy as np\n",
    "import pandas as pd\n",
    "from sklearn import preprocessing\n",
    "from warnings import simplefilter\n",
    "simplefilter(action='ignore', category=FutureWarning)\n",
    "from warnings import simplefilter\n",
    "df = pd.read_csv('covid_dataset.csv',low_memory=False)\n",
    "df"
   ]
  },
  {
   "cell_type": "code",
   "execution_count": 2,
   "metadata": {},
   "outputs": [
    {
     "data": {
      "text/html": [
       "<div>\n",
       "<style scoped>\n",
       "    .dataframe tbody tr th:only-of-type {\n",
       "        vertical-align: middle;\n",
       "    }\n",
       "\n",
       "    .dataframe tbody tr th {\n",
       "        vertical-align: top;\n",
       "    }\n",
       "\n",
       "    .dataframe thead th {\n",
       "        text-align: right;\n",
       "    }\n",
       "</style>\n",
       "<table border=\"1\" class=\"dataframe\">\n",
       "  <thead>\n",
       "    <tr style=\"text-align: right;\">\n",
       "      <th></th>\n",
       "      <th>test_date</th>\n",
       "      <th>cough</th>\n",
       "      <th>fever</th>\n",
       "      <th>sore_throat</th>\n",
       "      <th>shortness_of_breath</th>\n",
       "      <th>head_ache</th>\n",
       "      <th>corona_result</th>\n",
       "      <th>age_60_and_above</th>\n",
       "      <th>gender</th>\n",
       "      <th>test_indication</th>\n",
       "    </tr>\n",
       "  </thead>\n",
       "  <tbody>\n",
       "    <tr>\n",
       "      <th>0</th>\n",
       "      <td>4/30/2020</td>\n",
       "      <td>0</td>\n",
       "      <td>0</td>\n",
       "      <td>0</td>\n",
       "      <td>0</td>\n",
       "      <td>0</td>\n",
       "      <td>negative</td>\n",
       "      <td>None</td>\n",
       "      <td>female</td>\n",
       "      <td>Other</td>\n",
       "    </tr>\n",
       "    <tr>\n",
       "      <th>1</th>\n",
       "      <td>4/30/2020</td>\n",
       "      <td>1</td>\n",
       "      <td>0</td>\n",
       "      <td>0</td>\n",
       "      <td>0</td>\n",
       "      <td>0</td>\n",
       "      <td>negative</td>\n",
       "      <td>None</td>\n",
       "      <td>female</td>\n",
       "      <td>Other</td>\n",
       "    </tr>\n",
       "    <tr>\n",
       "      <th>2</th>\n",
       "      <td>4/30/2020</td>\n",
       "      <td>0</td>\n",
       "      <td>1</td>\n",
       "      <td>0</td>\n",
       "      <td>0</td>\n",
       "      <td>0</td>\n",
       "      <td>negative</td>\n",
       "      <td>None</td>\n",
       "      <td>male</td>\n",
       "      <td>Other</td>\n",
       "    </tr>\n",
       "    <tr>\n",
       "      <th>3</th>\n",
       "      <td>4/30/2020</td>\n",
       "      <td>1</td>\n",
       "      <td>0</td>\n",
       "      <td>0</td>\n",
       "      <td>0</td>\n",
       "      <td>0</td>\n",
       "      <td>negative</td>\n",
       "      <td>None</td>\n",
       "      <td>female</td>\n",
       "      <td>Other</td>\n",
       "    </tr>\n",
       "    <tr>\n",
       "      <th>4</th>\n",
       "      <td>4/30/2020</td>\n",
       "      <td>1</td>\n",
       "      <td>0</td>\n",
       "      <td>0</td>\n",
       "      <td>0</td>\n",
       "      <td>0</td>\n",
       "      <td>negative</td>\n",
       "      <td>None</td>\n",
       "      <td>male</td>\n",
       "      <td>Other</td>\n",
       "    </tr>\n",
       "    <tr>\n",
       "      <th>5</th>\n",
       "      <td>4/30/2020</td>\n",
       "      <td>1</td>\n",
       "      <td>0</td>\n",
       "      <td>0</td>\n",
       "      <td>0</td>\n",
       "      <td>0</td>\n",
       "      <td>negative</td>\n",
       "      <td>None</td>\n",
       "      <td>female</td>\n",
       "      <td>Other</td>\n",
       "    </tr>\n",
       "    <tr>\n",
       "      <th>6</th>\n",
       "      <td>4/30/2020</td>\n",
       "      <td>1</td>\n",
       "      <td>1</td>\n",
       "      <td>0</td>\n",
       "      <td>0</td>\n",
       "      <td>0</td>\n",
       "      <td>negative</td>\n",
       "      <td>None</td>\n",
       "      <td>male</td>\n",
       "      <td>Abroad</td>\n",
       "    </tr>\n",
       "    <tr>\n",
       "      <th>7</th>\n",
       "      <td>4/30/2020</td>\n",
       "      <td>0</td>\n",
       "      <td>0</td>\n",
       "      <td>0</td>\n",
       "      <td>0</td>\n",
       "      <td>0</td>\n",
       "      <td>negative</td>\n",
       "      <td>None</td>\n",
       "      <td>female</td>\n",
       "      <td>Other</td>\n",
       "    </tr>\n",
       "    <tr>\n",
       "      <th>8</th>\n",
       "      <td>4/30/2020</td>\n",
       "      <td>0</td>\n",
       "      <td>0</td>\n",
       "      <td>0</td>\n",
       "      <td>0</td>\n",
       "      <td>0</td>\n",
       "      <td>negative</td>\n",
       "      <td>None</td>\n",
       "      <td>male</td>\n",
       "      <td>Other</td>\n",
       "    </tr>\n",
       "    <tr>\n",
       "      <th>9</th>\n",
       "      <td>4/30/2020</td>\n",
       "      <td>0</td>\n",
       "      <td>0</td>\n",
       "      <td>0</td>\n",
       "      <td>0</td>\n",
       "      <td>0</td>\n",
       "      <td>negative</td>\n",
       "      <td>None</td>\n",
       "      <td>male</td>\n",
       "      <td>Contact with confirmed</td>\n",
       "    </tr>\n",
       "  </tbody>\n",
       "</table>\n",
       "</div>"
      ],
      "text/plain": [
       "   test_date cough fever sore_throat shortness_of_breath head_ache  \\\n",
       "0  4/30/2020     0     0           0                   0         0   \n",
       "1  4/30/2020     1     0           0                   0         0   \n",
       "2  4/30/2020     0     1           0                   0         0   \n",
       "3  4/30/2020     1     0           0                   0         0   \n",
       "4  4/30/2020     1     0           0                   0         0   \n",
       "5  4/30/2020     1     0           0                   0         0   \n",
       "6  4/30/2020     1     1           0                   0         0   \n",
       "7  4/30/2020     0     0           0                   0         0   \n",
       "8  4/30/2020     0     0           0                   0         0   \n",
       "9  4/30/2020     0     0           0                   0         0   \n",
       "\n",
       "  corona_result age_60_and_above  gender         test_indication  \n",
       "0      negative             None  female                   Other  \n",
       "1      negative             None  female                   Other  \n",
       "2      negative             None    male                   Other  \n",
       "3      negative             None  female                   Other  \n",
       "4      negative             None    male                   Other  \n",
       "5      negative             None  female                   Other  \n",
       "6      negative             None    male                  Abroad  \n",
       "7      negative             None  female                   Other  \n",
       "8      negative             None    male                   Other  \n",
       "9      negative             None    male  Contact with confirmed  "
      ]
     },
     "execution_count": 2,
     "metadata": {},
     "output_type": "execute_result"
    }
   ],
   "source": [
    "# Printing the first 10 rows of the dataframe\n",
    "\n",
    "pd.options.display.max_columns = 100\n",
    "df.head(10)"
   ]
  },
  {
   "cell_type": "code",
   "execution_count": 3,
   "metadata": {},
   "outputs": [
    {
     "data": {
      "text/plain": [
       "(278848, 10)"
      ]
     },
     "execution_count": 3,
     "metadata": {},
     "output_type": "execute_result"
    }
   ],
   "source": [
    "#The dataframe consists of around 278848 instances, 9(independent features), 1(target feature)\n",
    "df.shape"
   ]
  },
  {
   "cell_type": "code",
   "execution_count": 4,
   "metadata": {},
   "outputs": [
    {
     "data": {
      "text/plain": [
       "test_date              0.0\n",
       "cough                  0.0\n",
       "fever                  0.0\n",
       "sore_throat            0.0\n",
       "shortness_of_breath    0.0\n",
       "head_ache              0.0\n",
       "corona_result          0.0\n",
       "age_60_and_above       0.0\n",
       "gender                 0.0\n",
       "test_indication        0.0\n",
       "dtype: float64"
      ]
     },
     "execution_count": 4,
     "metadata": {},
     "output_type": "execute_result"
    }
   ],
   "source": [
    "#Calculating the percentage of missing values in all columns\n",
    "missing_value_percentage = df.isna().mean().round(4)*100\n",
    "missing_value_percentage"
   ]
  },
  {
   "cell_type": "code",
   "execution_count": 5,
   "metadata": {},
   "outputs": [
    {
     "data": {
      "text/plain": [
       "0         None\n",
       "122808     Yes\n",
       "122809      No\n",
       "Name: age_60_and_above, dtype: object"
      ]
     },
     "execution_count": 5,
     "metadata": {},
     "output_type": "execute_result"
    }
   ],
   "source": [
    "#Now, we are printing the unique values of 'age_60_and_above' column\n",
    "df['age_60_and_above'].drop_duplicates()"
   ]
  },
  {
   "cell_type": "code",
   "execution_count": 6,
   "metadata": {},
   "outputs": [],
   "source": [
    "#Here, we can use label encoding to covert the different categories of age_60_and_above column to numerical format\n",
    "\n",
    "from sklearn import preprocessing\n",
    "from sklearn.preprocessing import LabelEncoder\n",
    "label_encoder1 = preprocessing.LabelEncoder()\n",
    "df['age_60_and_above'] = label_encoder1.fit_transform(df['age_60_and_above']) "
   ]
  },
  {
   "cell_type": "code",
   "execution_count": 7,
   "metadata": {},
   "outputs": [],
   "source": [
    "#Here, we are label encoding cough, fever, sore_throat, shortness_of_breath and headache columns to int data type.\n",
    "label_encoder2= preprocessing.LabelEncoder()\n",
    "df['cough']= label_encoder2.fit_transform(df['cough'])\n",
    "\n",
    "label_encoder3 = preprocessing.LabelEncoder()\n",
    "df['fever'] = label_encoder3.fit_transform(df['fever'])\n",
    "\n",
    "label_encoder4 = preprocessing.LabelEncoder()\n",
    "df['sore_throat'] = label_encoder4.fit_transform(df['sore_throat'])\n",
    "\n",
    "label_encoder5 = preprocessing.LabelEncoder()\n",
    "df['shortness_of_breath'] = label_encoder5.fit_transform(df['shortness_of_breath'])\n",
    "\n",
    "label_encoder6 = preprocessing.LabelEncoder()\n",
    "df['head_ache'] = label_encoder6.fit_transform(df['head_ache'])"
   ]
  },
  {
   "cell_type": "code",
   "execution_count": 8,
   "metadata": {},
   "outputs": [
    {
     "data": {
      "text/plain": [
       "0     female\n",
       "2       male\n",
       "51      None\n",
       "Name: gender, dtype: object"
      ]
     },
     "execution_count": 8,
     "metadata": {},
     "output_type": "execute_result"
    }
   ],
   "source": [
    "# Identifying different categories in gender column\n",
    "\n",
    "df['gender'].drop_duplicates()"
   ]
  },
  {
   "cell_type": "code",
   "execution_count": 9,
   "metadata": {},
   "outputs": [],
   "source": [
    "# Also, here we can use label encoding to convert the different categories of gender into numerical format\n",
    "\n",
    "label_encoder2 = preprocessing.LabelEncoder()\n",
    "df['gender'] = label_encoder2.fit_transform(df['gender'])"
   ]
  },
  {
   "cell_type": "code",
   "execution_count": 10,
   "metadata": {},
   "outputs": [
    {
     "data": {
      "text/plain": [
       "0                     Other\n",
       "6                    Abroad\n",
       "9    Contact with confirmed\n",
       "Name: test_indication, dtype: object"
      ]
     },
     "execution_count": 10,
     "metadata": {},
     "output_type": "execute_result"
    }
   ],
   "source": [
    "# Identifying different scenarios in test_indication column\n",
    "\n",
    "df['test_indication'].drop_duplicates()"
   ]
  },
  {
   "cell_type": "code",
   "execution_count": 11,
   "metadata": {},
   "outputs": [],
   "source": [
    "# Implementing label encoding to convert the different categories of 'test_indication' into numerical format.\n",
    "\n",
    "label_encoder3 = preprocessing.LabelEncoder()\n",
    "df['test_indication']= label_encoder3.fit_transform(df['test_indication'])"
   ]
  },
  {
   "cell_type": "code",
   "execution_count": 12,
   "metadata": {},
   "outputs": [
    {
     "data": {
      "text/html": [
       "<div>\n",
       "<style scoped>\n",
       "    .dataframe tbody tr th:only-of-type {\n",
       "        vertical-align: middle;\n",
       "    }\n",
       "\n",
       "    .dataframe tbody tr th {\n",
       "        vertical-align: top;\n",
       "    }\n",
       "\n",
       "    .dataframe thead th {\n",
       "        text-align: right;\n",
       "    }\n",
       "</style>\n",
       "<table border=\"1\" class=\"dataframe\">\n",
       "  <thead>\n",
       "    <tr style=\"text-align: right;\">\n",
       "      <th></th>\n",
       "      <th>test_date</th>\n",
       "      <th>cough</th>\n",
       "      <th>fever</th>\n",
       "      <th>sore_throat</th>\n",
       "      <th>shortness_of_breath</th>\n",
       "      <th>head_ache</th>\n",
       "      <th>corona_result</th>\n",
       "      <th>age_60_and_above</th>\n",
       "      <th>gender</th>\n",
       "      <th>test_indication</th>\n",
       "    </tr>\n",
       "  </thead>\n",
       "  <tbody>\n",
       "    <tr>\n",
       "      <th>0</th>\n",
       "      <td>2020-04-30</td>\n",
       "      <td>0</td>\n",
       "      <td>0</td>\n",
       "      <td>0</td>\n",
       "      <td>0</td>\n",
       "      <td>0</td>\n",
       "      <td>negative</td>\n",
       "      <td>1</td>\n",
       "      <td>1</td>\n",
       "      <td>2</td>\n",
       "    </tr>\n",
       "    <tr>\n",
       "      <th>1</th>\n",
       "      <td>2020-04-30</td>\n",
       "      <td>1</td>\n",
       "      <td>0</td>\n",
       "      <td>0</td>\n",
       "      <td>0</td>\n",
       "      <td>0</td>\n",
       "      <td>negative</td>\n",
       "      <td>1</td>\n",
       "      <td>1</td>\n",
       "      <td>2</td>\n",
       "    </tr>\n",
       "    <tr>\n",
       "      <th>2</th>\n",
       "      <td>2020-04-30</td>\n",
       "      <td>0</td>\n",
       "      <td>1</td>\n",
       "      <td>0</td>\n",
       "      <td>0</td>\n",
       "      <td>0</td>\n",
       "      <td>negative</td>\n",
       "      <td>1</td>\n",
       "      <td>2</td>\n",
       "      <td>2</td>\n",
       "    </tr>\n",
       "    <tr>\n",
       "      <th>3</th>\n",
       "      <td>2020-04-30</td>\n",
       "      <td>1</td>\n",
       "      <td>0</td>\n",
       "      <td>0</td>\n",
       "      <td>0</td>\n",
       "      <td>0</td>\n",
       "      <td>negative</td>\n",
       "      <td>1</td>\n",
       "      <td>1</td>\n",
       "      <td>2</td>\n",
       "    </tr>\n",
       "    <tr>\n",
       "      <th>4</th>\n",
       "      <td>2020-04-30</td>\n",
       "      <td>1</td>\n",
       "      <td>0</td>\n",
       "      <td>0</td>\n",
       "      <td>0</td>\n",
       "      <td>0</td>\n",
       "      <td>negative</td>\n",
       "      <td>1</td>\n",
       "      <td>2</td>\n",
       "      <td>2</td>\n",
       "    </tr>\n",
       "  </tbody>\n",
       "</table>\n",
       "</div>"
      ],
      "text/plain": [
       "   test_date  cough  fever  sore_throat  shortness_of_breath  head_ache  \\\n",
       "0 2020-04-30      0      0            0                    0          0   \n",
       "1 2020-04-30      1      0            0                    0          0   \n",
       "2 2020-04-30      0      1            0                    0          0   \n",
       "3 2020-04-30      1      0            0                    0          0   \n",
       "4 2020-04-30      1      0            0                    0          0   \n",
       "\n",
       "  corona_result  age_60_and_above  gender  test_indication  \n",
       "0      negative                 1       1                2  \n",
       "1      negative                 1       1                2  \n",
       "2      negative                 1       2                2  \n",
       "3      negative                 1       1                2  \n",
       "4      negative                 1       2                2  "
      ]
     },
     "execution_count": 12,
     "metadata": {},
     "output_type": "execute_result"
    }
   ],
   "source": [
    "#Converting string date to date-time\n",
    "import datetime as dt\n",
    "df['test_date'] = pd.to_datetime(df['test_date'])\n",
    "df.head()"
   ]
  },
  {
   "cell_type": "code",
   "execution_count": 13,
   "metadata": {},
   "outputs": [
    {
     "data": {
      "text/html": [
       "<div>\n",
       "<style scoped>\n",
       "    .dataframe tbody tr th:only-of-type {\n",
       "        vertical-align: middle;\n",
       "    }\n",
       "\n",
       "    .dataframe tbody tr th {\n",
       "        vertical-align: top;\n",
       "    }\n",
       "\n",
       "    .dataframe thead th {\n",
       "        text-align: right;\n",
       "    }\n",
       "</style>\n",
       "<table border=\"1\" class=\"dataframe\">\n",
       "  <thead>\n",
       "    <tr style=\"text-align: right;\">\n",
       "      <th></th>\n",
       "      <th>test_date</th>\n",
       "      <th>cough</th>\n",
       "      <th>fever</th>\n",
       "      <th>sore_throat</th>\n",
       "      <th>shortness_of_breath</th>\n",
       "      <th>head_ache</th>\n",
       "      <th>corona_result</th>\n",
       "      <th>age_60_and_above</th>\n",
       "      <th>gender</th>\n",
       "      <th>test_indication</th>\n",
       "    </tr>\n",
       "  </thead>\n",
       "  <tbody>\n",
       "    <tr>\n",
       "      <th>0</th>\n",
       "      <td>737545</td>\n",
       "      <td>0</td>\n",
       "      <td>0</td>\n",
       "      <td>0</td>\n",
       "      <td>0</td>\n",
       "      <td>0</td>\n",
       "      <td>negative</td>\n",
       "      <td>1</td>\n",
       "      <td>1</td>\n",
       "      <td>2</td>\n",
       "    </tr>\n",
       "    <tr>\n",
       "      <th>1</th>\n",
       "      <td>737545</td>\n",
       "      <td>1</td>\n",
       "      <td>0</td>\n",
       "      <td>0</td>\n",
       "      <td>0</td>\n",
       "      <td>0</td>\n",
       "      <td>negative</td>\n",
       "      <td>1</td>\n",
       "      <td>1</td>\n",
       "      <td>2</td>\n",
       "    </tr>\n",
       "    <tr>\n",
       "      <th>2</th>\n",
       "      <td>737545</td>\n",
       "      <td>0</td>\n",
       "      <td>1</td>\n",
       "      <td>0</td>\n",
       "      <td>0</td>\n",
       "      <td>0</td>\n",
       "      <td>negative</td>\n",
       "      <td>1</td>\n",
       "      <td>2</td>\n",
       "      <td>2</td>\n",
       "    </tr>\n",
       "    <tr>\n",
       "      <th>3</th>\n",
       "      <td>737545</td>\n",
       "      <td>1</td>\n",
       "      <td>0</td>\n",
       "      <td>0</td>\n",
       "      <td>0</td>\n",
       "      <td>0</td>\n",
       "      <td>negative</td>\n",
       "      <td>1</td>\n",
       "      <td>1</td>\n",
       "      <td>2</td>\n",
       "    </tr>\n",
       "    <tr>\n",
       "      <th>4</th>\n",
       "      <td>737545</td>\n",
       "      <td>1</td>\n",
       "      <td>0</td>\n",
       "      <td>0</td>\n",
       "      <td>0</td>\n",
       "      <td>0</td>\n",
       "      <td>negative</td>\n",
       "      <td>1</td>\n",
       "      <td>2</td>\n",
       "      <td>2</td>\n",
       "    </tr>\n",
       "  </tbody>\n",
       "</table>\n",
       "</div>"
      ],
      "text/plain": [
       "   test_date  cough  fever  sore_throat  shortness_of_breath  head_ache  \\\n",
       "0     737545      0      0            0                    0          0   \n",
       "1     737545      1      0            0                    0          0   \n",
       "2     737545      0      1            0                    0          0   \n",
       "3     737545      1      0            0                    0          0   \n",
       "4     737545      1      0            0                    0          0   \n",
       "\n",
       "  corona_result  age_60_and_above  gender  test_indication  \n",
       "0      negative                 1       1                2  \n",
       "1      negative                 1       1                2  \n",
       "2      negative                 1       2                2  \n",
       "3      negative                 1       1                2  \n",
       "4      negative                 1       2                2  "
      ]
     },
     "execution_count": 13,
     "metadata": {},
     "output_type": "execute_result"
    }
   ],
   "source": [
    "# Converting date-time to ordinal\n",
    "df['test_date'] = df['test_date'].map(dt.datetime.toordinal)\n",
    "df.head()"
   ]
  },
  {
   "cell_type": "code",
   "execution_count": 14,
   "metadata": {},
   "outputs": [
    {
     "data": {
      "image/png": "[encoded data removed]",
      "text/plain": [
       "<Figure size 504x432 with 1 Axes>"
      ]
     },
     "metadata": {},
     "output_type": "display_data"
    }
   ],
   "source": [
    "# Calculating and Representing the count of categorical variables positive & negative of the 'corona_result' class with the help of \"bar chart\"\n",
    "import seaborn as sns\n",
    "import matplotlib.pyplot as plt\n",
    "sns.set(font_scale=1.4)\n",
    "df['corona_result'].value_counts().plot(kind='bar', figsize=(7, 6), rot=0)\n",
    "plt.xlabel(\"Corona Result\", labelpad=14)\n",
    "plt.ylabel(\"Count of People\", labelpad=14)\n",
    "plt.title(\"Count of People with different corona status\", y=1.02);"
   ]
  },
  {
   "cell_type": "code",
   "execution_count": 15,
   "metadata": {},
   "outputs": [],
   "source": [
    "# Here we can observe that negligible amount of people got corona_status as other. So, we can remove the rows which contain the \"other\" value.\n",
    "indexNames = df[(df['corona_result'] == 'other')].index\n",
    "df.drop(indexNames , inplace=True)\n",
    "df.to_excel (r'C:\\Users\\S.D.Harish\\Desktop\\export_dataframe.xlsx', index = False, header=True)"
   ]
  },
  {
   "cell_type": "code",
   "execution_count": 16,
   "metadata": {},
   "outputs": [
    {
     "data": {
      "image/png": "[encoded data removed]",
      "text/plain": [
       "<Figure size 504x432 with 1 Axes>"
      ]
     },
     "metadata": {},
     "output_type": "display_data"
    }
   ],
   "source": [
    "# Calculating and Representing the count of categorical variables positive & negative of the 'corona_result' class with the help of \"bar chart\"\n",
    "import seaborn as sns\n",
    "import matplotlib.pyplot as plt\n",
    "sns.set(font_scale=1.4)\n",
    "df['corona_result'].value_counts().plot(kind='bar', figsize=(7, 6), rot=0)\n",
    "plt.xlabel(\"Corona Result\", labelpad=14)\n",
    "plt.ylabel(\"Count of People\", labelpad=14)\n",
    "plt.title(\"Count of People with different corona status\", y=1.02);"
   ]
  },
  {
   "cell_type": "code",
   "execution_count": 17,
   "metadata": {},
   "outputs": [],
   "source": [
    "# Implementing label encoding to convert the different categories of 'corona_result' into numerical format.\n",
    "\n",
    "label_encoder4 = preprocessing.LabelEncoder()\n",
    "df['corona_result']= label_encoder4.fit_transform(df['corona_result'])"
   ]
  },
  {
   "cell_type": "markdown",
   "metadata": {},
   "source": [
    "### Creating dependent and independent features"
   ]
  },
  {
   "cell_type": "code",
   "execution_count": 18,
   "metadata": {},
   "outputs": [
    {
     "name": "stdout",
     "output_type": "stream",
     "text": [
      "(274956, 9)\n",
      "(274956,)\n"
     ]
    }
   ],
   "source": [
    "columns = df.columns.tolist()\n",
    "# Filtering the columns to remove data we do not want \n",
    "columns = [c for c in columns if c not in [\"corona_result\"]]\n",
    "# Storing the variable we are predicting \n",
    "target = \"corona_result\"\n",
    "# Defining a random state \n",
    "state = np.random.RandomState(42)\n",
    "X = df[columns]\n",
    "Y = df[target]\n",
    "X_outliers = state.uniform(low=0, high=1, size=(X.shape[0], X.shape[1]))\n",
    "# Printing the shapes of X & Y\n",
    "print(X.shape)\n",
    "print(Y.shape)"
   ]
  },
  {
   "cell_type": "code",
   "execution_count": 19,
   "metadata": {},
   "outputs": [
    {
     "data": {
      "text/plain": [
       "test_date              int64\n",
       "cough                  int32\n",
       "fever                  int32\n",
       "sore_throat            int32\n",
       "shortness_of_breath    int32\n",
       "head_ache              int32\n",
       "corona_result          int32\n",
       "age_60_and_above       int32\n",
       "gender                 int32\n",
       "test_indication        int32\n",
       "dtype: object"
      ]
     },
     "execution_count": 19,
     "metadata": {},
     "output_type": "execute_result"
    }
   ],
   "source": [
    "df.dtypes"
   ]
  },
  {
   "cell_type": "code",
   "execution_count": 20,
   "metadata": {},
   "outputs": [],
   "source": [
    "#Splitting the dataset into training and testing data.\n",
    "from sklearn.model_selection import train_test_split\n",
    "X_train,X_test,y_train,y_test = train_test_split(X,Y, test_size=0.3, random_state=1)"
   ]
  },
  {
   "cell_type": "markdown",
   "metadata": {},
   "source": [
    "### Calculating Accuracy, F1 score and Run Time using KNN distance-based model"
   ]
  },
  {
   "cell_type": "code",
   "execution_count": 21,
   "metadata": {},
   "outputs": [
    {
     "name": "stdout",
     "output_type": "stream",
     "text": [
      "KNN Accuracy Score: 0.9456156727726793\n",
      "KNN F-measure: 0.508760402978537\n",
      "KNN Runtime : 83.56466555595398 seconds\n"
     ]
    }
   ],
   "source": [
    "import time\n",
    "knn_start_time = time.time()\n",
    "#Importing the libraries essential for the knn model classifier\n",
    "from sklearn.neighbors import KNeighborsClassifier\n",
    "#Evaluation Metrics\n",
    "from sklearn import metrics\n",
    "from sklearn.metrics import accuracy_score\n",
    "from sklearn.metrics import f1_score\n",
    "from sklearn.metrics import roc_auc_score\n",
    "#Fitting the model into training data\n",
    "knn_model = KNeighborsClassifier(n_neighbors= 1)\n",
    "knn_model.fit(X_train,y_train)\n",
    "#Model prediction on test data\n",
    "knn_prediction = knn_model.predict(X_test)\n",
    "#Determining the Sensitivity and Specificity\n",
    "#Predicting the probabilities on test data\n",
    "knn_probs = knn_model.predict_proba(X_test)\n",
    "#Keeping only the positive class\n",
    "knn_probs = knn_probs[:, 1]\n",
    "#Computation of AUC Scores\n",
    "knn_auc = roc_auc_score(y_test, knn_probs)\n",
    "#Printing Accuracy Score\n",
    "print(\"KNN Accuracy Score:\",metrics.accuracy_score(knn_prediction,y_test))\n",
    "#Printing F-measure\n",
    "print(\"KNN F-measure:\",metrics.f1_score(y_test,knn_prediction))\n",
    "#Printing Run time\n",
    "knn_model_runtime = time.time()-(knn_start_time)\n",
    "print(\"KNN Runtime : %s seconds\" %(knn_model_runtime))"
   ]
  },
  {
   "cell_type": "code",
   "execution_count": 22,
   "metadata": {},
   "outputs": [
    {
     "name": "stdout",
     "output_type": "stream",
     "text": [
      "[[75678  2353]\n",
      " [ 2133  2323]]\n"
     ]
    }
   ],
   "source": [
    "from sklearn.metrics import confusion_matrix\n",
    "knn_confusion_matrix= confusion_matrix(y_test,knn_prediction)\n",
    "print(knn_confusion_matrix)"
   ]
  },
  {
   "cell_type": "code",
   "execution_count": 23,
   "metadata": {},
   "outputs": [
    {
     "data": {
      "text/plain": [
       "<AxesSubplot:>"
      ]
     },
     "execution_count": 23,
     "metadata": {},
     "output_type": "execute_result"
    },
    {
     "data": {
      "image/png": "[encoded data removed]",
      "text/plain": [
       "<Figure size 432x288 with 2 Axes>"
      ]
     },
     "metadata": {},
     "output_type": "display_data"
    }
   ],
   "source": [
    "#Visualizing the Confusion Matrix using \"seaborn\" library\n",
    "import seaborn as sns\n",
    "group_names = ['True Negative','False Positive','False Negative','True Positive']\n",
    "group_counts = [\"{0:0.0f}\".format(value) for value in\n",
    "                knn_confusion_matrix.flatten()]\n",
    "group_percentages = [\"{0:.2%}\".format(value) for value in\n",
    "                     knn_confusion_matrix.flatten()/np.sum(knn_confusion_matrix)]\n",
    "labels = [f\"{v1}\\n{v2}\\n{v3}\" for v1, v2, v3 in \n",
    "            zip(group_names,group_counts,group_percentages)]\n",
    "labels = np.asarray(labels).reshape(2,2)\n",
    "sns.heatmap(knn_confusion_matrix, annot=labels, fmt='', cmap='YlGnBu')"
   ]
  },
  {
   "cell_type": "code",
   "execution_count": 24,
   "metadata": {},
   "outputs": [
    {
     "name": "stdout",
     "output_type": "stream",
     "text": [
      "KNN Sensitivity : 0.5213195691202872\n",
      "KNN Specificity : 0.969845317886481\n"
     ]
    }
   ],
   "source": [
    "knn_total=sum(sum(knn_confusion_matrix))\n",
    "#Sensitivity\n",
    "knn_sensitivity = knn_confusion_matrix[1,1]/(knn_confusion_matrix[1,1]+knn_confusion_matrix[1,0])\n",
    "print(\"KNN Sensitivity :\",knn_sensitivity)\n",
    "#Specificity\n",
    "knn_specificity = knn_confusion_matrix[0,0]/(knn_confusion_matrix[0,0]+knn_confusion_matrix[0,1])\n",
    "print(\"KNN Specificity :\",knn_specificity)"
   ]
  },
  {
   "cell_type": "code",
   "execution_count": 25,
   "metadata": {},
   "outputs": [
    {
     "data": {
      "image/png": "[encoded data removed]",
      "text/plain": [
       "<Figure size 432x288 with 1 Axes>"
      ]
     },
     "metadata": {
      "needs_background": "light"
     },
     "output_type": "display_data"
    }
   ],
   "source": [
    "import seaborn\n",
    "seaborn.reset_orig()\n",
    "from sklearn.metrics import roc_curve\n",
    "knn_fpr, knn_tpr, thresholds = roc_curve(y_test, knn_probs)\n",
    "lw = 2\n",
    "plt.plot(knn_fpr, knn_tpr, color='darkgoldenrod',\n",
    "         lw=lw, label='ROC curve (area = %0.2f)' % knn_auc)\n",
    "plt.plot([0, 1], [0, 1], color='black', lw=lw, linestyle='--')\n",
    "plt.xlim([0.0, 1.0])\n",
    "plt.ylim([0.0, 1.05])\n",
    "plt.xlabel('False Positive Rate (1 - Specificity)')\n",
    "plt.ylabel('True Positive Rate (Sensitivity)')\n",
    "plt.title('Receiver operating characteristic curve')\n",
    "plt.legend(loc=\"lower right\")\n",
    "plt.show()"
   ]
  },
  {
   "cell_type": "code",
   "execution_count": 26,
   "metadata": {},
   "outputs": [
    {
     "name": "stdout",
     "output_type": "stream",
     "text": [
      "DECISIONTREE Accuracy Score: 0.9690981609223271\n",
      "DECISIONTREE F-measure: 0.6706292802687687\n",
      "DECISIONTREE Runtime : 1.3506646156311035 seconds\n"
     ]
    }
   ],
   "source": [
    "import time\n",
    "decisiontree_start_time = time.time()\n",
    "#Importing the libraries essential for the decisiontree model classifier\n",
    "from sklearn.tree import DecisionTreeClassifier\n",
    "#Fitting the model into training data\n",
    "decisiontree_model = DecisionTreeClassifier(random_state=999)\n",
    "decisiontree_model.fit(X_train,y_train)\n",
    "#Model prediction on test data\n",
    "decisiontree_prediction = decisiontree_model.predict(X_test)\n",
    "#Determining the Sensitivity and Specificity\n",
    "#Predicting the probabilities on test data\n",
    "decisiontree_probs = decisiontree_model.predict_proba(X_test)\n",
    "#Keeping only the positive class\n",
    "decisiontree_probs = decisiontree_probs[:, 1]\n",
    "#Computation of AUC Scores\n",
    "decisiontree_auc = roc_auc_score(y_test, decisiontree_probs)\n",
    "#Printing Accuracy Score\n",
    "print(\"DECISIONTREE Accuracy Score:\",metrics.accuracy_score(decisiontree_prediction,y_test))\n",
    "#Printing F-measure\n",
    "print(\"DECISIONTREE F-measure:\",metrics.f1_score(y_test,decisiontree_prediction))\n",
    "#Printing Run time\n",
    "decisiontree_model_runtime = time.time()-(decisiontree_start_time)\n",
    "print(\"DECISIONTREE Runtime : %s seconds\" %(decisiontree_model_runtime))"
   ]
  },
  {
   "cell_type": "code",
   "execution_count": 27,
   "metadata": {},
   "outputs": [
    {
     "name": "stdout",
     "output_type": "stream",
     "text": [
      "[[77343   688]\n",
      " [ 1861  2595]]\n"
     ]
    }
   ],
   "source": [
    "from sklearn.metrics import confusion_matrix\n",
    "decisiontree_confusion_matrix= confusion_matrix(y_test,decisiontree_prediction)\n",
    "print(decisiontree_confusion_matrix)"
   ]
  },
  {
   "cell_type": "code",
   "execution_count": 28,
   "metadata": {},
   "outputs": [
    {
     "data": {
      "text/plain": [
       "<AxesSubplot:>"
      ]
     },
     "execution_count": 28,
     "metadata": {},
     "output_type": "execute_result"
    },
    {
     "data": {
      "image/png": "[encoded data removed]",
      "text/plain": [
       "<Figure size 432x288 with 2 Axes>"
      ]
     },
     "metadata": {
      "needs_background": "light"
     },
     "output_type": "display_data"
    }
   ],
   "source": [
    "#Visualizing the Confusion Matrix using \"seaborn\" library\n",
    "import seaborn as sns\n",
    "group_names = ['True Negative','False Positive','False Negative','True Positive']\n",
    "group_counts = [\"{0:0.0f}\".format(value) for value in\n",
    "               decisiontree_confusion_matrix.flatten()]\n",
    "group_percentages = [\"{0:.2%}\".format(value) for value in\n",
    "                     decisiontree_confusion_matrix.flatten()/np.sum(decisiontree_confusion_matrix)]\n",
    "labels = [f\"{v1}\\n{v2}\\n{v3}\" for v1, v2, v3 in \n",
    "            zip(group_names,group_counts,group_percentages)]\n",
    "labels = np.asarray(labels).reshape(2,2)\n",
    "sns.heatmap(decisiontree_confusion_matrix, annot=labels, fmt='', cmap='Reds')"
   ]
  },
  {
   "cell_type": "code",
   "execution_count": 29,
   "metadata": {},
   "outputs": [
    {
     "name": "stdout",
     "output_type": "stream",
     "text": [
      "DECISIONTREE Sensitivity : 0.5823608617594255\n",
      "DECISIONTREE Specificity : 0.9911829913752227\n"
     ]
    }
   ],
   "source": [
    "decisiontree_total=sum(sum(decisiontree_confusion_matrix))\n",
    "#Sensitivity\n",
    "decisiontree_sensitivity = decisiontree_confusion_matrix[1,1]/(decisiontree_confusion_matrix[1,1]+decisiontree_confusion_matrix[1,0])\n",
    "print(\"DECISIONTREE Sensitivity :\",decisiontree_sensitivity)\n",
    "#Specificity\n",
    "decisiontree_specificity = decisiontree_confusion_matrix[0,0]/(decisiontree_confusion_matrix[0,0]+decisiontree_confusion_matrix[0,1])\n",
    "print(\"DECISIONTREE Specificity :\",decisiontree_specificity)"
   ]
  },
  {
   "cell_type": "code",
   "execution_count": 30,
   "metadata": {},
   "outputs": [
    {
     "data": {
      "image/png": "[encoded data removed]",
      "text/plain": [
       "<Figure size 432x288 with 1 Axes>"
      ]
     },
     "metadata": {
      "needs_background": "light"
     },
     "output_type": "display_data"
    }
   ],
   "source": [
    "import seaborn\n",
    "seaborn.reset_orig()\n",
    "from sklearn.metrics import roc_curve\n",
    "decisiontree_fpr, decisiontree_tpr, thresholds = roc_curve(y_test, decisiontree_probs)\n",
    "lw = 2\n",
    "plt.plot(decisiontree_fpr, decisiontree_tpr, color='blueviolet',\n",
    "         lw=lw, label='ROC curve (area = %0.2f)' % decisiontree_auc)\n",
    "plt.plot([0, 1], [0, 1], color='black', lw=lw, linestyle='--')\n",
    "plt.xlim([0.0, 1.0])\n",
    "plt.ylim([0.0, 1.05])\n",
    "plt.xlabel('False Positive Rate (1 - Specificity)')\n",
    "plt.ylabel('True Positive Rate (Sensitivity)')\n",
    "plt.title('Receiver operating characteristic curve')\n",
    "plt.legend(loc=\"lower right\")\n",
    "plt.show()"
   ]
  },
  {
   "cell_type": "code",
   "execution_count": 31,
   "metadata": {},
   "outputs": [
    {
     "name": "stdout",
     "output_type": "stream",
     "text": [
      "NAIVEBAYES Accuracy Score: 0.9380508443754774\n",
      "NAIVEBAYES F-measure: 0.32745459331403004\n",
      "NAIVEBAYES Runtime : 0.4299952983856201 seconds\n"
     ]
    }
   ],
   "source": [
    "import time\n",
    "naivebayes_start_time = time.time()\n",
    "#Importing the libraries essential for the naivebayes model classifier\n",
    "from sklearn.naive_bayes import GaussianNB\n",
    "#Fitting the model into training data\n",
    "naivebayes_model = GaussianNB(np.random.seed(999))\n",
    "naivebayes_model.fit(X_train,y_train)\n",
    "#Model prediction on test data\n",
    "naivebayes_prediction = naivebayes_model.predict(X_test)\n",
    "#Determining the Sensitivity and Specificity\n",
    "#Predicting the probabilities on test data\n",
    "naivebayes_probs = naivebayes_model.predict_proba(X_test)\n",
    "#Keeping only the positive class\n",
    "naivebayes_probs = naivebayes_probs[:, 1]\n",
    "#Computation of AUC Scores\n",
    "naivebayes_auc = roc_auc_score(y_test, naivebayes_probs)\n",
    "#Printing Accuracy Score\n",
    "print(\"NAIVEBAYES Accuracy Score:\",metrics.accuracy_score(naivebayes_prediction,y_test))\n",
    "#Printing F-measure\n",
    "print(\"NAIVEBAYES F-measure:\",metrics.f1_score(y_test,naivebayes_prediction))\n",
    "#Printing Run time\n",
    "naivebayes_model_runtime = time.time()-(naivebayes_start_time)\n",
    "print(\"NAIVEBAYES Runtime : %s seconds\" %(naivebayes_model_runtime))"
   ]
  },
  {
   "cell_type": "code",
   "execution_count": 32,
   "metadata": {},
   "outputs": [
    {
     "name": "stdout",
     "output_type": "stream",
     "text": [
      "[[76133  1898]\n",
      " [ 3212  1244]]\n"
     ]
    }
   ],
   "source": [
    "from sklearn.metrics import confusion_matrix\n",
    "naivebayes_confusion_matrix= confusion_matrix(y_test,naivebayes_prediction)\n",
    "print(naivebayes_confusion_matrix)"
   ]
  },
  {
   "cell_type": "code",
   "execution_count": 33,
   "metadata": {},
   "outputs": [
    {
     "data": {
      "text/plain": [
       "<AxesSubplot:>"
      ]
     },
     "execution_count": 33,
     "metadata": {},
     "output_type": "execute_result"
    },
    {
     "data": {
      "image/png": "[encoded data removed]",
      "text/plain": [
       "<Figure size 432x288 with 2 Axes>"
      ]
     },
     "metadata": {
      "needs_background": "light"
     },
     "output_type": "display_data"
    }
   ],
   "source": [
    "#Visualizing the Confusion Matrix using \"seaborn\" library\n",
    "import seaborn as sns\n",
    "group_names = ['True Negative','False Positive','False Negative','True Positive']\n",
    "group_counts = [\"{0:0.0f}\".format(value) for value in\n",
    "                naivebayes_confusion_matrix.flatten()]\n",
    "group_percentages = [\"{0:.2%}\".format(value) for value in\n",
    "                     naivebayes_confusion_matrix.flatten()/np.sum(naivebayes_confusion_matrix)]\n",
    "labels = [f\"{v1}\\n{v2}\\n{v3}\" for v1, v2, v3 in \n",
    "            zip(group_names,group_counts,group_percentages)]\n",
    "labels = np.asarray(labels).reshape(2,2)\n",
    "sns.heatmap(naivebayes_confusion_matrix, annot=labels, fmt='', cmap='YlOrBr')"
   ]
  },
  {
   "cell_type": "code",
   "execution_count": 34,
   "metadata": {},
   "outputs": [
    {
     "name": "stdout",
     "output_type": "stream",
     "text": [
      "NAIVEBAYES Sensitivity : 0.2791741472172352\n",
      "NAIVEBAYES Specificity : 0.9756763337647858\n"
     ]
    }
   ],
   "source": [
    "naivebayes_total=sum(sum(naivebayes_confusion_matrix))\n",
    "#Sensitivity\n",
    "naivebayes_sensitivity = naivebayes_confusion_matrix[1,1]/(naivebayes_confusion_matrix[1,1]+naivebayes_confusion_matrix[1,0])\n",
    "print(\"NAIVEBAYES Sensitivity :\",naivebayes_sensitivity)\n",
    "#Specificity\n",
    "naivebayes_specificity = naivebayes_confusion_matrix[0,0]/(naivebayes_confusion_matrix[0,0]+naivebayes_confusion_matrix[0,1])\n",
    "print(\"NAIVEBAYES Specificity :\",naivebayes_specificity)"
   ]
  },
  {
   "cell_type": "code",
   "execution_count": 35,
   "metadata": {},
   "outputs": [
    {
     "data": {
      "image/png": "[encoded data removed]",
      "text/plain": [
       "<Figure size 432x288 with 1 Axes>"
      ]
     },
     "metadata": {
      "needs_background": "light"
     },
     "output_type": "display_data"
    }
   ],
   "source": [
    "import seaborn\n",
    "seaborn.reset_orig()\n",
    "from sklearn.metrics import roc_curve\n",
    "naivebayes_fpr, naivebayes_tpr, thresholds = roc_curve(y_test, naivebayes_probs)\n",
    "lw = 2\n",
    "plt.plot(naivebayes_fpr, naivebayes_tpr, color='teal',\n",
    "         lw=lw, label='ROC curve (area = %0.2f)' % naivebayes_auc)\n",
    "plt.plot([0, 1], [0, 1], color='black', lw=lw, linestyle='--')\n",
    "plt.xlim([0.0, 1.0])\n",
    "plt.ylim([0.0, 1.05])\n",
    "plt.xlabel('False Positive Rate (1 - Specificity)')\n",
    "plt.ylabel('True Positive Rate (Sensitivity)')\n",
    "plt.title('Receiver operating characteristic curve')\n",
    "plt.legend(loc=\"lower right\")\n",
    "plt.show()"
   ]
  },
  {
   "cell_type": "code",
   "execution_count": 36,
   "metadata": {},
   "outputs": [
    {
     "name": "stdout",
     "output_type": "stream",
     "text": [
      "EXTREMETREES Accuracy Score: 0.9692557615139356\n",
      "EXTREMETREES F-measure: 0.6734483646664949\n",
      "EXTREMETREES Runtime : 28.02875852584839 seconds\n"
     ]
    }
   ],
   "source": [
    "import time\n",
    "extremetrees_start_time = time.time()\n",
    "#Importing the libraries essential for the extremetrees model classifier\n",
    "from sklearn.ensemble import ExtraTreesClassifier\n",
    "#Fitting the model into training data\n",
    "extremetrees_model = ExtraTreesClassifier(n_estimators=100, random_state=0)\n",
    "extremetrees_model.fit(X_train,y_train)\n",
    "#Model prediction on test data\n",
    "extremetrees_prediction = extremetrees_model.predict(X_test)\n",
    "#Determining the Sensitivity and Specificity\n",
    "#Predicting the probabilities on test data\n",
    "extremetrees_probs = extremetrees_model.predict_proba(X_test)\n",
    "#Keeping only the positive class\n",
    "extremetrees_probs = extremetrees_probs[:, 1]\n",
    "#Computation of AUC Scores\n",
    "extremetrees_auc = roc_auc_score(y_test, extremetrees_probs)\n",
    "#Printing Accuracy Score\n",
    "print(\"EXTREMETREES Accuracy Score:\",metrics.accuracy_score(extremetrees_prediction,y_test))\n",
    "#Printing F-measure\n",
    "print(\"EXTREMETREES F-measure:\",metrics.f1_score(y_test,extremetrees_prediction))\n",
    "#Printing Run time\n",
    "extremetrees_model_runtime = time.time()-(extremetrees_start_time)\n",
    "print(\"EXTREMETREES Runtime : %s seconds\" %(extremetrees_model_runtime))"
   ]
  },
  {
   "cell_type": "code",
   "execution_count": 37,
   "metadata": {},
   "outputs": [
    {
     "name": "stdout",
     "output_type": "stream",
     "text": [
      "[[77336   695]\n",
      " [ 1841  2615]]\n"
     ]
    }
   ],
   "source": [
    "from sklearn.metrics import confusion_matrix\n",
    "extremetrees_confusion_matrix= confusion_matrix(y_test,extremetrees_prediction)\n",
    "print(extremetrees_confusion_matrix)"
   ]
  },
  {
   "cell_type": "code",
   "execution_count": 38,
   "metadata": {},
   "outputs": [
    {
     "data": {
      "text/plain": [
       "<AxesSubplot:>"
      ]
     },
     "execution_count": 38,
     "metadata": {},
     "output_type": "execute_result"
    },
    {
     "data": {
      "image/png": "[encoded data removed]",
      "text/plain": [
       "<Figure size 432x288 with 2 Axes>"
      ]
     },
     "metadata": {
      "needs_background": "light"
     },
     "output_type": "display_data"
    }
   ],
   "source": [
    "#Visualizing the Confusion Matrix using \"seaborn\" library\n",
    "import seaborn as sns\n",
    "group_names = ['True Negative','False Positive','False Negative','True Positive']\n",
    "group_counts = [\"{0:0.0f}\".format(value) for value in\n",
    "               extremetrees_confusion_matrix.flatten()]\n",
    "group_percentages = [\"{0:.2%}\".format(value) for value in\n",
    "                     extremetrees_confusion_matrix.flatten()/np.sum(extremetrees_confusion_matrix)]\n",
    "labels = [f\"{v1}\\n{v2}\\n{v3}\" for v1, v2, v3 in \n",
    "            zip(group_names,group_counts,group_percentages)]\n",
    "labels = np.asarray(labels).reshape(2,2)\n",
    "sns.heatmap(extremetrees_confusion_matrix, annot=labels, fmt='', cmap='GnBu')"
   ]
  },
  {
   "cell_type": "code",
   "execution_count": 39,
   "metadata": {},
   "outputs": [
    {
     "name": "stdout",
     "output_type": "stream",
     "text": [
      "EXTREMETREES Sensitivity : 0.5868491921005387\n",
      "EXTREMETREES Specificity : 0.9910932834386333\n"
     ]
    }
   ],
   "source": [
    "extremetrees_total=sum(sum(extremetrees_confusion_matrix))\n",
    "#Sensitivity\n",
    "extremetrees_sensitivity = extremetrees_confusion_matrix[1,1]/(extremetrees_confusion_matrix[1,1]+extremetrees_confusion_matrix[1,0])\n",
    "print(\"EXTREMETREES Sensitivity :\",extremetrees_sensitivity)\n",
    "#Specificity\n",
    "extremetrees_specificity = extremetrees_confusion_matrix[0,0]/(extremetrees_confusion_matrix[0,0]+extremetrees_confusion_matrix[0,1])\n",
    "print(\"EXTREMETREES Specificity :\",extremetrees_specificity)"
   ]
  },
  {
   "cell_type": "code",
   "execution_count": 40,
   "metadata": {},
   "outputs": [
    {
     "data": {
      "image/png": "[encoded data removed]",
      "text/plain": [
       "<Figure size 432x288 with 1 Axes>"
      ]
     },
     "metadata": {
      "needs_background": "light"
     },
     "output_type": "display_data"
    }
   ],
   "source": [
    "import seaborn\n",
    "seaborn.reset_orig()\n",
    "from sklearn.metrics import roc_curve\n",
    "ExtremeTrees_fpr, ExtremeTrees_tpr, thresholds = roc_curve(y_test, extremetrees_probs)\n",
    "lw = 2\n",
    "plt.plot(ExtremeTrees_fpr, ExtremeTrees_fpr, color='rebeccapurple',\n",
    "         lw=lw, label='ROC curve (area = %0.2f)' % extremetrees_auc)\n",
    "plt.plot([0, 1], [0, 1], color='floralwhite', lw=lw, linestyle='--')\n",
    "plt.xlim([0.0, 1.0])\n",
    "plt.ylim([0.0, 1.05])\n",
    "plt.xlabel('False Positive Rate (1 - Specificity)')\n",
    "plt.ylabel('True Positive Rate (Sensitivity)')\n",
    "plt.title('Receiver operating characteristic curve')\n",
    "plt.legend(loc=\"lower right\")\n",
    "plt.show()"
   ]
  },
  {
   "cell_type": "code",
   "execution_count": 43,
   "metadata": {},
   "outputs": [
    {
     "data": {
      "image/png": "[encoded data removed]",
      "text/plain": [
       "<Figure size 432x288 with 1 Axes>"
      ]
     },
     "metadata": {
      "needs_background": "light"
     },
     "output_type": "display_data"
    }
   ],
   "source": [
    "import seaborn\n",
    "seaborn.reset_orig()\n",
    "# matplotlib\n",
    "import matplotlib.pyplot as plt\n",
    "# plotting roc curves\n",
    "plt.plot(knn_fpr, knn_tpr, linestyle='--',color='green', label='KNN')\n",
    "plt.plot(naivebayes_fpr, naivebayes_tpr, linestyle='--',color='blue', label='Naive Bayes')\n",
    "plt.plot(decisiontree_fpr, decisiontree_tpr, linestyle='--', color='black',label='Decision Tree')\n",
    "plt.plot(ExtremeTrees_fpr, ExtremeTrees_tpr, linestyle='--', color='red', label='Extreme Trees')\n",
    "# title\n",
    "plt.title('ROC Curve for all models')\n",
    "# x label\n",
    "plt.xlabel('False Positive Rate (1 - Specificity)')\n",
    "# y label\n",
    "plt.ylabel('True Positive Rate (Sensitivity)')\n",
    "plt.rcParams['font.size'] = 12 \n",
    "plt.xlim([0.0, 1.0])\n",
    "plt.ylim([0.0, 1.0])\n",
    "plt.legend(loc = \"lower right\")\n",
    "plt.show(); "
   ]
  },
  {
   "cell_type": "code",
   "execution_count": null,
   "metadata": {},
   "outputs": [],
   "source": []
  }
 ],
 "metadata": {
  "kernelspec": {
   "display_name": "Python 3",
   "language": "python",
   "name": "python3"
  },
  "language_info": {
   "codemirror_mode": {
    "name": "ipython",
    "version": 3
   },
   "file_extension": ".py",
   "mimetype": "text/x-python",
   "name": "python",
   "nbconvert_exporter": "python",
   "pygments_lexer": "ipython3",
   "version": "3.8.5"
  }
 },
 "nbformat": 4,
 "nbformat_minor": 4
}
